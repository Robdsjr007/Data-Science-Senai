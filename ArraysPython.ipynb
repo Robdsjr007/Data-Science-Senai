{
  "nbformat": 4,
  "nbformat_minor": 0,
  "metadata": {
    "colab": {
      "provenance": []
    },
    "kernelspec": {
      "name": "python3",
      "display_name": "Python 3"
    },
    "language_info": {
      "name": "python"
    }
  },
  "cells": [
    {
      "cell_type": "markdown",
      "source": [
        "# Tipos de arrays\n"
      ],
      "metadata": {
        "id": "seXgbpN5O25R"
      }
    },
    {
      "cell_type": "code",
      "execution_count": null,
      "metadata": {
        "colab": {
          "base_uri": "https://localhost:8080/"
        },
        "id": "S4pZBEZEKvcq",
        "outputId": "c295137a-926e-47c0-cee6-ed512057e616"
      },
      "outputs": [
        {
          "output_type": "stream",
          "name": "stdout",
          "text": [
            "Maçã\n",
            "['Maçã', 'Pera', 'Laranja', 'Manga']\n"
          ]
        }
      ],
      "source": [
        "#isso é um array unidimensional\n",
        "frutas = ['Maçã', 'Banana', 'Laranja', 'Manga']\n",
        "print(frutas[0])  # Saída: 'Maçã'\n",
        "\n",
        "\n",
        "#Alterando o valor dos dados:\n",
        "frutas[1] = 'Pera'\n",
        "print(frutas)  # Saída: ['Maçã', 'Pera', 'Laranja', 'Manga']\n",
        "\n",
        "#percorrendo os valores:\n",
        "for fruta in frutas:\n",
        "    print(fruta)\n",
        "\n",
        "#realizando calculos\n",
        "numeros = [5, 10, 15, 20]\n",
        "soma = sum(numeros)\n",
        "print(soma)  # Saída: 50\n"
      ]
    },
    {
      "cell_type": "code",
      "source": [
        "#isso é um array bidimensional\n",
        "notas_alunos = [\n",
        "    [8, 7, 9],  # Aluno 1\n",
        "    [6, 8, 7],  # Aluno 2\n",
        "    [9, 9, 10]  # Aluno 3\n",
        "]\n",
        "print(notas_alunos[2][2])  # Saída: 7 (nota do aluno 2 na 3ª disciplina)\n",
        "#Cada linha representa um aluno, e cada número dentro de uma linha representa as notas nas disciplinas.\n",
        "\n",
        "#Alterando os valores\n",
        "notas_alunos[2][1] = 10  # Mudando a nota do aluno 3 na 2ª disciplina\n",
        "print(notas_alunos)\n",
        "\n",
        "#percorrendo os valores\n",
        "for i in range(len(notas_alunos)):\n",
        "    soma = 0\n",
        "    for j in range(len(notas_alunos[i])):\n",
        "        soma += notas_alunos[i][j]\n",
        "    print(f\"Soma das notas do aluno {i + 1}: {soma}\")\n",
        "\n",
        "#realizando calculos\n",
        "aluno = notas_alunos[0]\n",
        "soma_notas = sum(aluno)\n",
        "media = soma_notas / len(aluno)\n",
        "print(f\"Média do Aluno 1: {media}\")\n"
      ],
      "metadata": {
        "colab": {
          "base_uri": "https://localhost:8080/"
        },
        "id": "jV7xu-PUMWUy",
        "outputId": "984da27c-b7cf-490f-8ffd-7ddbde1814fe"
      },
      "execution_count": null,
      "outputs": [
        {
          "output_type": "stream",
          "name": "stdout",
          "text": [
            "10\n",
            "[[8, 7, 9], [6, 8, 7], [9, 10, 10]]\n",
            "Soma das notas do aluno 1: 24\n",
            "Soma das notas do aluno 2: 21\n",
            "Soma das notas do aluno 3: 29\n"
          ]
        }
      ]
    },
    {
      "cell_type": "code",
      "source": [
        "#isso é um array tridimensional\n",
        "vendas = [\n",
        "    [  # Cidade 1\n",
        "        [150, 200, 250],  # Janeiro\n",
        "        [180, 220, 300]   # Fevereiro\n",
        "    ],\n",
        "    [  # Cidade 2\n",
        "        [130, 170, 190],  # Janeiro\n",
        "        [140, 180, 210]   # Fevereiro\n",
        "    ]\n",
        "]\n",
        "print(vendas[0][1][2])  # Saída: 190 (vendas da Cidade 2 em Janeiro, 3º valor)\n",
        "\n",
        "# Agora imagine que você está guardando as vendas de uma loja em várias cidades durante os meses de um ano. Cada cidade tem suas próprias vendas registradas mensalmente:\n",
        "# Aqui temos duas cidades, e em cada uma delas, há vendas mensais organizadas em três meses (janeiro, fevereiro e março). Cada cidade tem um \"bloco\" com seus dados.\n",
        "\n",
        "vendas[0][1][0] = 250  # Alterando o valor de vendas de Fevereiro na Cidade 1\n",
        "print(vendas)\n",
        "\n",
        "#Percorrendo os valores\n",
        "for i in range(len(vendas)):\n",
        "    print(f\"Cidade {i + 1}\")\n",
        "    for j in range(len(vendas[i])):\n",
        "        print(f\"  Mês {j + 1}: {vendas[i][j]}\")\n",
        "\n",
        "# realizando calculos\n",
        "total_vendas_cidade1 = 0\n",
        "for i in range(len(vendas[0])):\n",
        "    for j in range(len(vendas[0][i])):\n",
        "        total_vendas_cidade1 += vendas[0][i][j]\n",
        "print(f\"Total de vendas da Cidade 1: {total_vendas_cidade1}\")\n"
      ],
      "metadata": {
        "colab": {
          "base_uri": "https://localhost:8080/"
        },
        "id": "NSTDL2oyMt9x",
        "outputId": "b4aef816-10c6-4635-dd39-19f71cfddf12"
      },
      "execution_count": null,
      "outputs": [
        {
          "output_type": "stream",
          "name": "stdout",
          "text": [
            "300\n",
            "[[[150, 200, 250], [250, 220, 300]], [[130, 170, 190], [140, 180, 210]]]\n",
            "Cidade 1\n",
            "  Mês 1: [150, 200, 250]\n",
            "  Mês 2: [250, 220, 300]\n",
            "Cidade 2\n",
            "  Mês 1: [130, 170, 190]\n",
            "  Mês 2: [140, 180, 210]\n",
            "Total de vendas da Cidade 1: 1370\n"
          ]
        }
      ]
    },
    {
      "cell_type": "markdown",
      "source": [
        "# Falando sobre numpy\n",
        "\n",
        "## biblioteca para tratamento de dados através de estruturas de dados `array`\n",
        "\n"
      ],
      "metadata": {
        "id": "9lALfoi6O5WJ"
      }
    },
    {
      "cell_type": "code",
      "source": [
        "import numpy as np #import do numpy e referenciando ela como np"
      ],
      "metadata": {
        "id": "FGg05DWuPscV"
      },
      "execution_count": null,
      "outputs": []
    },
    {
      "cell_type": "code",
      "source": [
        "# cria uma matriz unidimensional\n",
        "mt = np.array([12,34,26,18,10])\n",
        "print(mt)\n",
        "print(type(mt))"
      ],
      "metadata": {
        "colab": {
          "base_uri": "https://localhost:8080/"
        },
        "id": "C5CieKdOPukh",
        "outputId": "b1b7ca94-1c4e-4aca-c030-a236c7a8f86d"
      },
      "execution_count": null,
      "outputs": [
        {
          "output_type": "stream",
          "name": "stdout",
          "text": [
            "[12 34 26 18 10]\n",
            "<class 'numpy.ndarray'>\n"
          ]
        }
      ]
    },
    {
      "cell_type": "code",
      "source": [
        "#criar o array com um tipo específico\n",
        "# cria o array como float de 64 bits\n",
        "mtfloat = np.array([1, 2, 3], dtype = np.float32)\n",
        "print(mtfloat)\n",
        "print(type(mtfloat))\n",
        "mtint = np.array([1, 2, 3], dtype = np.int32)\n",
        "print(mtint)\n",
        "print(type(mtint))"
      ],
      "metadata": {
        "colab": {
          "base_uri": "https://localhost:8080/"
        },
        "id": "TMzG5p3KPxCC",
        "outputId": "0b5835cc-9c2a-4b65-bc85-c0aac92f2be9"
      },
      "execution_count": null,
      "outputs": [
        {
          "output_type": "stream",
          "name": "stdout",
          "text": [
            "[1. 2. 3.]\n",
            "<class 'numpy.ndarray'>\n",
            "[1 2 3]\n",
            "<class 'numpy.ndarray'>\n"
          ]
        }
      ]
    },
    {
      "cell_type": "code",
      "source": [
        "#mudar o tipo do array\n",
        "# Podemos transformar tipos de dados de arrays\n",
        "mtnew = np.array([1.4, 3.6, -5.1, 9.42, 4.999999])\n",
        "print(mtnew)\n",
        "# quando transformamos de float para int os valores são truncados\n",
        "mtnewint = mtnew.astype(np.int32)\n",
        "print(mtnewint)"
      ],
      "metadata": {
        "id": "sIrvKKzbPyR4"
      },
      "execution_count": null,
      "outputs": []
    },
    {
      "cell_type": "code",
      "source": [
        "# podemos fazer o inverso também.\n",
        "mt5 = np.array([1, 2, 3, 4])\n",
        "print(mt5)\n",
        "mt6 = mt5.astype(float)\n",
        "print(mt6)"
      ],
      "metadata": {
        "colab": {
          "base_uri": "https://localhost:8080/"
        },
        "id": "b_V6gTRfQw_Z",
        "outputId": "9c14bdc2-8659-4c17-d00b-f328dd572f37"
      },
      "execution_count": null,
      "outputs": [
        {
          "output_type": "stream",
          "name": "stdout",
          "text": [
            "[1 2 3 4]\n",
            "[1. 2. 3. 4.]\n"
          ]
        }
      ]
    },
    {
      "cell_type": "code",
      "source": [
        "# mais de uma dimensão\n",
        "# cria um matriz bidimensional\n",
        "mt7 = np.array([[7,2,23],[12,27,4],[5,34,23]])\n",
        "print(mt7)"
      ],
      "metadata": {
        "colab": {
          "base_uri": "https://localhost:8080/"
        },
        "id": "2MhlPJycQyBh",
        "outputId": "79bfc251-2846-4fb5-c2cc-eab175e198b5"
      },
      "execution_count": null,
      "outputs": [
        {
          "output_type": "stream",
          "name": "stdout",
          "text": [
            "[[ 7  2 23]\n",
            " [12 27  4]\n",
            " [ 5 34 23]]\n"
          ]
        }
      ]
    },
    {
      "cell_type": "code",
      "source": [
        "#criar arrays vazios tipificados\n",
        "#empty significa que não são inicializados, não que são vazios\n",
        "#sempre será primeiro linhas e depois colunas\n",
        "vazio = np.empty([3,2], dtype = int)\n",
        "print(vazio)\n",
        "print(\"-------\")\n",
        "# cria uma matriz 4x3 com valores zero\n",
        "zeros = np.zeros([4,3])\n",
        "print(zeros)\n",
        "print(\"-------\")\n",
        "#com valores igual a um\n",
        "um = np.ones([5,7])\n",
        "print(um)\n",
        "print(\"-------\")\n",
        "# cria matriz quadrada com diagonal principal com valores 1 e os outros valores zero\n",
        "diagonal = np.eye(6)\n",
        "print(diagonal)\n"
      ],
      "metadata": {
        "colab": {
          "base_uri": "https://localhost:8080/"
        },
        "id": "p-VY7MZIQzCJ",
        "outputId": "3d147e02-a5f0-442c-b273-1ad92e1e58b5"
      },
      "execution_count": null,
      "outputs": [
        {
          "output_type": "stream",
          "name": "stdout",
          "text": [
            "[[101910002252002               0]\n",
            " [   416611827815    137438953580]\n",
            " [   433791697011    459561500773]]\n",
            "-------\n",
            "[[0. 0. 0.]\n",
            " [0. 0. 0.]\n",
            " [0. 0. 0.]\n",
            " [0. 0. 0.]]\n",
            "-------\n",
            "[[1. 1. 1. 1. 1. 1. 1.]\n",
            " [1. 1. 1. 1. 1. 1. 1.]\n",
            " [1. 1. 1. 1. 1. 1. 1.]\n",
            " [1. 1. 1. 1. 1. 1. 1.]\n",
            " [1. 1. 1. 1. 1. 1. 1.]]\n",
            "-------\n",
            "[[1. 0. 0. 0. 0. 0.]\n",
            " [0. 1. 0. 0. 0. 0.]\n",
            " [0. 0. 1. 0. 0. 0.]\n",
            " [0. 0. 0. 1. 0. 0.]\n",
            " [0. 0. 0. 0. 1. 0.]\n",
            " [0. 0. 0. 0. 0. 1.]]\n"
          ]
        }
      ]
    },
    {
      "cell_type": "code",
      "source": [
        "#valores aleatórios entre zero e um\n",
        "ale = np.random.random((5))\n",
        "print(ale)\n",
        "print(\"-------\")\n",
        "#valores aleatórios distr. normal contendo negativos\n",
        "ale2= np.random.randn((5))\n",
        "print(ale2)\n",
        "print(\"-------\")\n",
        "#valores aleatórios 3 x 4\n",
        "ale3 = (10*np.random.random((3,4)))\n",
        "print(ale3)"
      ],
      "metadata": {
        "colab": {
          "base_uri": "https://localhost:8080/"
        },
        "id": "nfi_0nvvQ0UT",
        "outputId": "0a430a21-1b45-4de6-a35d-96a8e9ee7ea7"
      },
      "execution_count": null,
      "outputs": [
        {
          "output_type": "stream",
          "name": "stdout",
          "text": [
            "[0.0422805  0.35323114 0.39241982 0.229691   0.64103444]\n",
            "-------\n",
            "[-3.06921214  0.16474446 -0.51757622  1.30608445  1.62557704]\n",
            "-------\n",
            "[[9.58715097 6.31580549 9.89100945 7.10606314]\n",
            " [9.1682775  8.25885976 7.52589763 8.34701697]\n",
            " [0.25150773 2.38913404 5.71520811 5.02492413]]\n"
          ]
        }
      ]
    },
    {
      "cell_type": "code",
      "source": [
        "#outra forma de gerar aleatórios\n",
        "#uso de semente\n",
        "gnr = np.random.default_rng(1)\n",
        "ale5 = gnr.random(3)\n",
        "print (ale5)\n",
        "\n",
        "#gerar inteiros\n",
        "ale6 = gnr.integers(10, size=(3, 4))\n",
        "print(ale6)"
      ],
      "metadata": {
        "colab": {
          "base_uri": "https://localhost:8080/"
        },
        "id": "F0KTbYmhQ1pR",
        "outputId": "a8fcbaeb-baea-4d75-a2d3-b7e9f4750153"
      },
      "execution_count": null,
      "outputs": [
        {
          "output_type": "stream",
          "name": "stdout",
          "text": [
            "[0.51182162 0.9504637  0.14415961]\n",
            "[[8 9 2 3]\n",
            " [8 4 2 8]\n",
            " [2 4 6 5]]\n"
          ]
        }
      ]
    },
    {
      "cell_type": "code",
      "source": [
        "#unique remove repetições\n",
        "j = np.array([11, 12, 13, 14, 15, 16, 17, 12, 13, 11, 18, 19, 20])\n",
        "j = np.unique(j)\n",
        "print(j)"
      ],
      "metadata": {
        "colab": {
          "base_uri": "https://localhost:8080/"
        },
        "id": "-LA4RcJXQ2pR",
        "outputId": "62b69629-8a4b-48df-a254-1b25142fd0b2"
      },
      "execution_count": null,
      "outputs": [
        {
          "output_type": "stream",
          "name": "stdout",
          "text": [
            "[11 12 13 14 15 16 17 18 19 20]\n"
          ]
        }
      ]
    },
    {
      "cell_type": "code",
      "source": [
        "#funções específicas\n",
        "# cria a matriz bidimensional k\n",
        "k = np.array([[17,22,43],[27,25,14],[15,24,32]])\n",
        "# Mostra a matriz k\n",
        "print(k)\n",
        "# Mostra um elemento específico da matriz k\n",
        "#primeiro eu especifico a linha e depois a coluna\n",
        "print(k[0][1])\n",
        "# Mostra o tamanho das dimensões da matriz k\n",
        "print(k.shape)"
      ],
      "metadata": {
        "colab": {
          "base_uri": "https://localhost:8080/"
        },
        "id": "g7CjGGsEQ3tB",
        "outputId": "62085cd4-528c-45bb-f7be-4fa5da4a8d6c"
      },
      "execution_count": null,
      "outputs": [
        {
          "output_type": "stream",
          "name": "stdout",
          "text": [
            "[[17 22 43]\n",
            " [27 25 14]\n",
            " [15 24 32]]\n",
            "22\n",
            "(3, 3)\n"
          ]
        }
      ]
    },
    {
      "cell_type": "code",
      "source": [
        "#Funções Matemáticas\n",
        "# Mostra o maior valor da matriz k\n",
        "print(k.max())\n",
        "# Mostra o menor valor da matriz k\n",
        "print(k.min())\n",
        "# Mostra a soma dos valores da matriz k\n",
        "print((k.sum()))\n",
        "# Mostra o valor da média dos valores da matriz k\n",
        "print(k.mean())\n",
        "# Mostra o valor do desvio padrão (standard deviation) dos valores da matiz k\n",
        "print(k.std())"
      ],
      "metadata": {
        "colab": {
          "base_uri": "https://localhost:8080/"
        },
        "id": "eTMxfYvyQ4jh",
        "outputId": "480d11f9-7944-4271-8a72-c1e262802aec"
      },
      "execution_count": null,
      "outputs": [
        {
          "output_type": "stream",
          "name": "stdout",
          "text": [
            "43\n",
            "14\n",
            "219\n",
            "24.333333333333332\n",
            "8.615231988880057\n"
          ]
        }
      ]
    },
    {
      "cell_type": "code",
      "source": [
        "#funções universais, aplicadas a todos os elementos\n",
        "# Mostra o valor da raiz quadrada de todos elementos\n",
        "k1 = np.array([1, 4, 9, 16, 25, 36])\n",
        "print(np.sqrt(k1))\n",
        "# Mostra o valor do exponencial de todos elementos\n",
        "print(np.exp(k1))"
      ],
      "metadata": {
        "id": "5qf_mT3GQ50J"
      },
      "execution_count": null,
      "outputs": []
    },
    {
      "cell_type": "code",
      "source": [
        "#extração de elementos\n",
        "m = np.array([1, 2, 3, 4, 5, 6])\n",
        "# Mostra o elemento da posição 2\n",
        "print(m[1])\n",
        "print(\"-------\")\n",
        "# Mostra o array criado a partir da posição 0, dois elementos\n",
        "print(m[0:2])\n",
        "print(\"-------\")\n",
        "# Mostra o array criado a partir da 2a posição\n",
        "# até todo o restante do array\n",
        "print(m[1:])\n",
        "print(\"-------\")\n",
        "# Mostra o array criado a partir da antepenúltima\n",
        "#posição até o final\n",
        "print(m[-3:])"
      ],
      "metadata": {
        "id": "T-C182a_Q60A",
        "colab": {
          "base_uri": "https://localhost:8080/"
        },
        "outputId": "01e91657-9660-4101-cf8b-62cf1ea25baf"
      },
      "execution_count": null,
      "outputs": [
        {
          "output_type": "stream",
          "name": "stdout",
          "text": [
            "2\n",
            "-------\n",
            "[1 2]\n",
            "-------\n",
            "[2 3 4 5 6]\n",
            "-------\n",
            "[4 5 6]\n"
          ]
        }
      ]
    },
    {
      "cell_type": "code",
      "source": [
        "#extração de linhas e colunas\n",
        "l = np.array([[4, 5], [6, 1], [7, 4]])\n",
        "print(l)\n",
        "print(\"-------\")\n",
        "#primeira linha, todas as colunas\n",
        "l_linha_1 = l[0, :]\n",
        "print(l_linha_1)\n",
        "print(\"-------\")\n",
        "#segunda linha\n",
        "l_linha_2 = l[1, :]\n",
        "print(l_linha_2)\n",
        "print(\"-------\")\n",
        "#terceira linha\n",
        "l_linha_3 = l[2, :]\n",
        "print(l_linha_3)\n",
        "print(\"-------\")\n",
        "#todas as linhas, primeira coluna\n",
        "l_coluna_1 = l[:, 0]\n",
        "print(l_coluna_1)\n",
        "print(\"-------\")\n",
        "#todas as linhas, segunda coluna\n",
        "l_coluna_2 = l[:, 1]\n",
        "print(l_coluna_2)"
      ],
      "metadata": {
        "id": "wYzh9TKdQ8dw",
        "colab": {
          "base_uri": "https://localhost:8080/"
        },
        "outputId": "49c35cf7-d80f-4aec-9cca-6cedbc94bc10"
      },
      "execution_count": null,
      "outputs": [
        {
          "output_type": "stream",
          "name": "stdout",
          "text": [
            "[[4 5]\n",
            " [6 1]\n",
            " [7 4]]\n",
            "-------\n",
            "[4 5]\n",
            "-------\n",
            "[6 1]\n",
            "-------\n",
            "[7 4]\n",
            "-------\n",
            "[4 6 7]\n",
            "-------\n",
            "[5 1 4]\n"
          ]
        }
      ]
    },
    {
      "cell_type": "code",
      "source": [
        "#adição e multiplicação de matrizes\n",
        "n = np.array([[1, 2], [3, 4]])\n",
        "o = np.array([[1, 1], [1, 1]])\n",
        "res1 = n+o\n",
        "print(res1)\n",
        "print(\"-------\")\n",
        "res2 = n*o\n",
        "print(res2)\n",
        "print(\"-------\")\n",
        "p = np.array([[1, 2], [3, 4], [5, 6]])\n",
        "q = np.array([[2, 1]])\n",
        "print(p+q)"
      ],
      "metadata": {
        "id": "Fc6fied6Q934",
        "colab": {
          "base_uri": "https://localhost:8080/"
        },
        "outputId": "3d605954-eb63-4e74-dabb-1f3b966ed4c6"
      },
      "execution_count": null,
      "outputs": [
        {
          "output_type": "stream",
          "name": "stdout",
          "text": [
            "[[2 3]\n",
            " [4 5]]\n",
            "-------\n",
            "[[1 2]\n",
            " [3 4]]\n",
            "-------\n",
            "[[3 3]\n",
            " [5 5]\n",
            " [7 7]]\n"
          ]
        }
      ]
    },
    {
      "cell_type": "markdown",
      "source": [],
      "metadata": {
        "id": "ghBdcuuwQ8Q5"
      }
    },
    {
      "cell_type": "code",
      "source": [
        "# transposição, rearranja um conjunto de 15 elementos de 0 a 14\n",
        "# em 3 linhas e 5 colunas.\n",
        "f = np.arange(15).reshape((3, 5))\n",
        "# mostra a matrizes transposta entre linha e coluna\n",
        "print(f)\n",
        "print(\"-------\")\n",
        "s = f.T\n",
        "print(s)"
      ],
      "metadata": {
        "id": "1vhTlPEuQ_AZ",
        "colab": {
          "base_uri": "https://localhost:8080/"
        },
        "outputId": "6206bf26-f95d-4ec0-de9b-7326ee07b043"
      },
      "execution_count": null,
      "outputs": [
        {
          "output_type": "stream",
          "name": "stdout",
          "text": [
            "[[ 0  1  2  3  4]\n",
            " [ 5  6  7  8  9]\n",
            " [10 11 12 13 14]]\n",
            "-------\n",
            "[[ 0  5 10]\n",
            " [ 1  6 11]\n",
            " [ 2  7 12]\n",
            " [ 3  8 13]\n",
            " [ 4  9 14]]\n"
          ]
        }
      ]
    },
    {
      "cell_type": "code",
      "source": [
        "#outra forma de fazer, mesmo resultado\n",
        "r = np.arange(15).reshape((3, 5))\n",
        "print(r)\n",
        "print(\"-------\")\n",
        "# rearranja um conjunto de 15 elementos\n",
        "# mostra a matrizes transposta entre linha e coluna\n",
        "s = r.transpose((1,0))\n",
        "print(s)\n"
      ],
      "metadata": {
        "id": "V3gZ0bOKRAFB",
        "colab": {
          "base_uri": "https://localhost:8080/"
        },
        "outputId": "bc2828ba-f7e4-4b4a-fa4e-8d73856a0d5e"
      },
      "execution_count": null,
      "outputs": [
        {
          "output_type": "stream",
          "name": "stdout",
          "text": [
            "[[ 0  1  2  3  4]\n",
            " [ 5  6  7  8  9]\n",
            " [10 11 12 13 14]]\n",
            "-------\n",
            "[[ 0  5 10]\n",
            " [ 1  6 11]\n",
            " [ 2  7 12]\n",
            " [ 3  8 13]\n",
            " [ 4  9 14]]\n"
          ]
        }
      ]
    },
    {
      "cell_type": "code",
      "source": [
        "#expressões lógicas\n",
        "#usando where\n",
        "# criando matriz com valores aleatórios positivos e negativos\n",
        "v = np.random.randn(4, 4)\n",
        "print(v)\n",
        "# criando matriz com valores booleanos baseado no array v\n",
        "x = (v > 0)\n",
        "print(x)\n",
        "# criando matriz com valores -1 e 1 baseado nos valores do array x\n",
        "z = np.where(x > 0, 1, -1) # se x for maior que 0 então ele vai imprimir 1, caso contraário, ele imprimi -1\n",
        "print(z)\n",
        "\n"
      ],
      "metadata": {
        "id": "L8OnO_yKRBuQ"
      },
      "execution_count": null,
      "outputs": []
    }
  ]
}